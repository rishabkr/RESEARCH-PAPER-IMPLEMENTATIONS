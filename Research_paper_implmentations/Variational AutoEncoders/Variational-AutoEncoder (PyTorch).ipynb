{
 "cells": [
  {
   "cell_type": "markdown",
   "metadata": {},
   "source": [
    "The VAE implemented here uses the setup found in most VAE papers: a multivariate Normal distribution for the conditional distribution of the latent vectors given and input image  qϕ(z|xi)"
   ]
  },
  {
   "cell_type": "markdown",
   "metadata": {},
   "source": [
    "and a multivariate Bernoulli distribution for the conditional distribution of images given the latent vector  pθ(x|z)"
   ]
  },
  {
   "cell_type": "markdown",
   "metadata": {},
   "source": [
    "Using a Bernoulli distribution, the reconstruction loss (negative log likelihood of a data point in the output distribution) reduces to the pixel-wise binary cross-entropy."
   ]
  },
  {
   "cell_type": "markdown",
   "metadata": {},
   "source": [
    "VAE PAPER"
   ]
  },
  {
   "cell_type": "markdown",
   "metadata": {},
   "source": [
    "https://arxiv.org/pdf/1312.6114.pdf"
   ]
  },
  {
   "cell_type": "code",
   "execution_count": 1,
   "metadata": {},
   "outputs": [],
   "source": [
    "import torchvision.transforms as transforms\n",
    "from torch.utils.data import DataLoader\n",
    "from  torchvision.datasets import MNIST"
   ]
  },
  {
   "cell_type": "code",
   "execution_count": 2,
   "metadata": {},
   "outputs": [],
   "source": [
    "%matplotlib inline\n",
    "\n",
    "import torch\n",
    "import torch.nn as nn\n",
    "import torch.nn.functional as f\n",
    "import matplotlib.pyplot as plt\n"
   ]
  },
  {
   "cell_type": "code",
   "execution_count": 3,
   "metadata": {},
   "outputs": [],
   "source": [
    "latent_dimensions=2 #2d latent space\n",
    "number_epochs=100\n",
    "bs=128\n",
    "capacity=64\n",
    "learning_rate=1e-3\n",
    "var_beta=1"
   ]
  },
  {
   "cell_type": "code",
   "execution_count": 4,
   "metadata": {},
   "outputs": [],
   "source": [
    "transformations=transforms.Compose([transforms.ToTensor()])"
   ]
  },
  {
   "cell_type": "code",
   "execution_count": 5,
   "metadata": {},
   "outputs": [],
   "source": [
    "train_data=MNIST(root='./data/MNIST',download=True,\n",
    "                 train=True,transform=transformations)\n",
    "\n",
    "test_data=MNIST(root='./data/MNIST',download=True,\n",
    "               train=False,transform=transformations)"
   ]
  },
  {
   "cell_type": "code",
   "execution_count": 6,
   "metadata": {},
   "outputs": [],
   "source": [
    "train_dataloader=DataLoader(train_data,batch_size=bs,shuffle=True)\n",
    "test_dataloader=DataLoader(test_data,batch_size=bs,shuffle=True)"
   ]
  },
  {
   "cell_type": "code",
   "execution_count": 7,
   "metadata": {},
   "outputs": [],
   "source": [
    "def get_gpu_details():\n",
    "    t = torch.cuda.get_device_properties(0).total_memory\n",
    "    c = torch.cuda.memory_cached(0)\n",
    "    a = torch.cuda.memory_allocated(0)\n",
    "    print(torch.cuda.get_device_name())\n",
    "    print(f'Total GPU Memory {t} B , Cached GPU Memory {c} B, Allocated GPU Memory {a} B')"
   ]
  },
  {
   "cell_type": "code",
   "execution_count": 8,
   "metadata": {},
   "outputs": [
    {
     "name": "stdout",
     "output_type": "stream",
     "text": [
      "Current Device: cuda:0\n",
      "GeForce RTX 2060\n",
      "Total GPU Memory 6442450944 B , Cached GPU Memory 0 B, Allocated GPU Memory 0 B\n"
     ]
    }
   ],
   "source": [
    "if torch.cuda.is_available():\n",
    "    device='cuda:0'\n",
    "else:\n",
    "    device='cpu'\n",
    "print(f'Current Device: {device}')\n",
    "if device=='cuda:0':\n",
    "    torch.cuda.empty_cache()\n",
    "    get_gpu_details()"
   ]
  },
  {
   "cell_type": "markdown",
   "metadata": {},
   "source": [
    "# variational autoencoder"
   ]
  },
  {
   "cell_type": "code",
   "execution_count": 9,
   "metadata": {},
   "outputs": [],
   "source": [
    "class Encoder(nn.Module):\n",
    "    def __init__(self):\n",
    "        super(Encoder,self).__init__()\n",
    "        num_channels=capacity\n",
    "        \n",
    "        self.conv1=nn.Conv2d(in_channels=1,out_channels=num_channels,kernel_size=4,stride=2,padding=1)\n",
    "        # conv1= #channels x 14 x 14\n",
    "        \n",
    "        self.conv2=nn.Conv2d(in_channels=num_channels,out_channels=num_channels*2,kernel_size=4,stride=2,padding=1)\n",
    "        # conv2= #channels x 7 x 7\n",
    "        \n",
    "        #latent dimension parameters\n",
    "        \n",
    "        self.mean_layer=nn.Linear(in_features=num_channels*2*7*7,out_features=latent_dimensions)\n",
    "        self.logvar_layer=nn.Linear(in_features=num_channels*2*7*7,out_features=latent_dimensions)\n",
    "        \n",
    "        \n",
    "        \n",
    "        \n",
    "    def forward(self,inp):\n",
    "        out1=f.relu(self.conv1(inp))\n",
    "        out2=f.relu(self.conv2(out1))\n",
    "        \n",
    "        #flatten to input to latent dim layer\n",
    "        out2=out2.view(out2.size(0),-1)\n",
    "        \n",
    "        mean=self.mean_layer(out2)\n",
    "        log_variance=self.logvar_layer(out2)\n",
    "        \n",
    "        return mean,log_variance"
   ]
  },
  {
   "cell_type": "code",
   "execution_count": 10,
   "metadata": {},
   "outputs": [],
   "source": [
    "class Decoder(nn.Module):\n",
    "    def __init__(self):\n",
    "        super(Decoder,self).__init__()\n",
    "        num_channels=capacity\n",
    "        \n",
    "        self.fc_layer=nn.Linear(in_features=latent_dimensions,out_features=num_channels*2*7*7)\n",
    "        \n",
    "        self.deconv1=nn.ConvTranspose2d(in_channels=num_channels*2,out_channels=num_channels,kernel_size=4,stride=2,padding=1)\n",
    "        self.deconv2=nn.ConvTranspose2d(in_channels=num_channels,out_channels=1,kernel_size=4,stride=2,padding=1)\n",
    "        \n",
    "        \n",
    "    def forward(self,inp):\n",
    "        out=self.fc_layer(inp)\n",
    "        #unflatten\n",
    "        out=out.view(out.size(0),capacity*2,7,7)\n",
    "        \n",
    "        out1=f.relu(self.deconv1(out))\n",
    "        out2=torch.sigmoid(self.deconv2(out1))\n",
    "        \n",
    "        return out2"
   ]
  },
  {
   "cell_type": "code",
   "execution_count": 11,
   "metadata": {},
   "outputs": [],
   "source": [
    "class VAE(nn.Module):\n",
    "    \n",
    "    def __init__(self):\n",
    "        super(VAE,self).__init__()\n",
    "        self.encoder_block=Encoder()\n",
    "        self.decoder_block=Decoder()\n",
    "    \n",
    "    def forward(self,inp):\n",
    "        latent_mean,latent_logvar=self.encoder_block(inp)\n",
    "        latent_sample=self.generate_latent_sample(latent_mean,latent_logvar)\n",
    "        reconstructed_inp=self.decoder_block(latent_sample)\n",
    "        return reconstructed_inp,latent_mean,latent_logvar\n",
    "    \n",
    "        \n",
    "    def generate_latent_sample(self,mean,logvar):\n",
    "        #reparameterization trick\n",
    "        if self.training:\n",
    "            standard_dev=logvar.mul(0.5).exp_()\n",
    "            gaussian_noise_eps=torch.empty_like(standard_dev).normal_()\n",
    "            return gaussian_noise_eps.mul(standard_dev).add_(mean) #mu+sigma.eps\n",
    "        else:\n",
    "            return mean\n",
    "        \n",
    "        "
   ]
  },
  {
   "cell_type": "markdown",
   "metadata": {},
   "source": [
    "1.     reconstructed_x is the probability of a multivariate Bernoulli distribution p.\n",
    "2.    -log(p(x)) is then the pixel-wise binary cross-entropy.\n",
    "3.    Averaging or not averaging the binary cross-entropy over all pixels here\n",
    "4.    is a subtle detail with big effect on training, since it changes the weight\n",
    "5.   we need to pick for the other loss term by several orders of magnitude.\n",
    "6.   Not averaging is the direct implementation of the negative log likelihood,\n",
    "7.   but averaging makes the weight of the other loss term independent of the image resolution."
   ]
  },
  {
   "cell_type": "markdown",
   "metadata": {},
   "source": [
    "<img src=\"variational_kld_loss.png\" width=\"800\" height=\"400\">"
   ]
  },
  {
   "cell_type": "code",
   "execution_count": 12,
   "metadata": {},
   "outputs": [],
   "source": [
    "def variational_encoder_loss(reconstructed_inp,inp,mean,logvar):\n",
    "    reconstruction_loss=f.binary_cross_entropy(reconstructed_inp.view(-1,784),\n",
    "                                              inp.view(-1,784),reduction='sum')\n",
    "    \n",
    "    kl_divergence=-0.5 * torch.sum(1+logvar - mean.pow(2) - logvar.exp())\n",
    "    \n",
    "    return reconstruction_loss +  var_beta * kl_divergence"
   ]
  },
  {
   "cell_type": "code",
   "execution_count": 13,
   "metadata": {},
   "outputs": [],
   "source": [
    "vae_model=VAE()\n",
    "vae_model=vae_model.to(device)"
   ]
  },
  {
   "cell_type": "code",
   "execution_count": 14,
   "metadata": {},
   "outputs": [
    {
     "name": "stdout",
     "output_type": "stream",
     "text": [
      "GeForce RTX 2060\n",
      "Total GPU Memory 6442450944 B , Cached GPU Memory 2097152 B, Allocated GPU Memory 1235456 B\n"
     ]
    }
   ],
   "source": [
    "get_gpu_details()"
   ]
  },
  {
   "cell_type": "code",
   "execution_count": 15,
   "metadata": {},
   "outputs": [
    {
     "name": "stdout",
     "output_type": "stream",
     "text": [
      "Number of trainable parameters 308357.\n"
     ]
    }
   ],
   "source": [
    "number_of_parameters=sum(p.numel() for p in vae_model.parameters() if p.requires_grad)\n",
    "print(f'Number of trainable parameters {number_of_parameters}.')"
   ]
  },
  {
   "cell_type": "code",
   "execution_count": 16,
   "metadata": {},
   "outputs": [],
   "source": [
    "def train_model(vae_model,optimizer,num_epochs):\n",
    "    average_training_loss=[]\n",
    "    \n",
    "    for epoch in range(num_epochs):\n",
    "        average_training_loss.append(0)\n",
    "        num_batches=0\n",
    "        \n",
    "        for mini_batch,_ in train_dataloader:\n",
    "            mini_batch=mini_batch.to(device)\n",
    "            \n",
    "            \n",
    "            #reconstruction\n",
    "            reconstructed_mini_batch,latent_mean,latent_logvar=vae_model(mini_batch)\n",
    "            \n",
    "            #reconstruction_loss\n",
    "            reconstruction_loss=variational_encoder_loss(reconstructed_mini_batch,mini_batch,\n",
    "                                                         latent_mean,latent_logvar)\n",
    "            \n",
    "            #backprop\n",
    "            optimizer.zero_grad()\n",
    "            reconstruction_loss.backward()\n",
    "            \n",
    "            optimizer.step()\n",
    "            \n",
    "            average_training_loss[-1]+=reconstruction_loss.item()\n",
    "            num_batches+=1\n",
    "            \n",
    "        average_training_loss[-1]/=num_batches   \n",
    "        print(f'Epoch [{epoch}/{num_epochs}] average reconstruction_error : {average_training_loss[-1]}')\n",
    "    \n",
    "    return average_training_loss,vae_model"
   ]
  },
  {
   "cell_type": "code",
   "execution_count": 17,
   "metadata": {},
   "outputs": [
    {
     "name": "stdout",
     "output_type": "stream",
     "text": [
      "Epoch [0/100] average reconstruction_error : 23216.762172674575\n",
      "Epoch [1/100] average reconstruction_error : 21020.424773454157\n",
      "Epoch [2/100] average reconstruction_error : 20471.047939015858\n",
      "Epoch [3/100] average reconstruction_error : 20202.80274895056\n",
      "Epoch [4/100] average reconstruction_error : 20038.43240271855\n",
      "Epoch [5/100] average reconstruction_error : 19903.95040145256\n",
      "Epoch [6/100] average reconstruction_error : 19802.812737373402\n",
      "Epoch [7/100] average reconstruction_error : 19717.91631962953\n",
      "Epoch [8/100] average reconstruction_error : 19644.63436583822\n",
      "Epoch [9/100] average reconstruction_error : 19590.11012876466\n",
      "Epoch [10/100] average reconstruction_error : 19532.34544492937\n",
      "Epoch [11/100] average reconstruction_error : 19485.605814398987\n",
      "Epoch [12/100] average reconstruction_error : 19446.358425506398\n",
      "Epoch [13/100] average reconstruction_error : 19402.563453658047\n",
      "Epoch [14/100] average reconstruction_error : 19376.363537363406\n",
      "Epoch [15/100] average reconstruction_error : 19331.708101512526\n",
      "Epoch [16/100] average reconstruction_error : 19307.781474880063\n",
      "Epoch [17/100] average reconstruction_error : 19280.0688341218\n",
      "Epoch [18/100] average reconstruction_error : 19247.01700759595\n",
      "Epoch [19/100] average reconstruction_error : 19234.417662663247\n",
      "Epoch [20/100] average reconstruction_error : 19201.438341218018\n",
      "Epoch [21/100] average reconstruction_error : 19179.975219466283\n",
      "Epoch [22/100] average reconstruction_error : 19161.914218666712\n",
      "Epoch [23/100] average reconstruction_error : 19138.920361224013\n",
      "Epoch [24/100] average reconstruction_error : 19120.484000199893\n",
      "Epoch [25/100] average reconstruction_error : 19094.498996368602\n",
      "Epoch [26/100] average reconstruction_error : 19081.008126915644\n",
      "Epoch [27/100] average reconstruction_error : 19076.167593949893\n",
      "Epoch [28/100] average reconstruction_error : 19048.396503115004\n",
      "Epoch [29/100] average reconstruction_error : 19040.60149795109\n",
      "Epoch [30/100] average reconstruction_error : 19009.76817780517\n",
      "Epoch [31/100] average reconstruction_error : 18999.412446695096\n",
      "Epoch [32/100] average reconstruction_error : 18979.980895605677\n",
      "Epoch [33/100] average reconstruction_error : 18977.38930695296\n",
      "Epoch [34/100] average reconstruction_error : 18965.674533998535\n",
      "Epoch [35/100] average reconstruction_error : 18945.240238539445\n",
      "Epoch [36/100] average reconstruction_error : 18934.275307336087\n",
      "Epoch [37/100] average reconstruction_error : 18922.823848114338\n",
      "Epoch [38/100] average reconstruction_error : 18903.5043809968\n",
      "Epoch [39/100] average reconstruction_error : 18907.769350096616\n",
      "Epoch [40/100] average reconstruction_error : 18889.987873134327\n",
      "Epoch [41/100] average reconstruction_error : 18872.91642790512\n",
      "Epoch [42/100] average reconstruction_error : 18873.18997159848\n",
      "Epoch [43/100] average reconstruction_error : 18870.459740221882\n",
      "Epoch [44/100] average reconstruction_error : 18849.40455715285\n",
      "Epoch [45/100] average reconstruction_error : 18841.14865196895\n",
      "Epoch [46/100] average reconstruction_error : 18830.02663371202\n",
      "Epoch [47/100] average reconstruction_error : 18829.409185934168\n",
      "Epoch [48/100] average reconstruction_error : 18822.913325393125\n",
      "Epoch [49/100] average reconstruction_error : 18798.496164545577\n",
      "Epoch [50/100] average reconstruction_error : 18811.824431136727\n",
      "Epoch [51/100] average reconstruction_error : 18781.93663379531\n",
      "Epoch [52/100] average reconstruction_error : 18783.12936433902\n",
      "Epoch [53/100] average reconstruction_error : 18775.27923024387\n",
      "Epoch [54/100] average reconstruction_error : 18762.748071861675\n",
      "Epoch [55/100] average reconstruction_error : 18755.73575134928\n",
      "Epoch [56/100] average reconstruction_error : 18751.139821261993\n",
      "Epoch [57/100] average reconstruction_error : 18744.559314199094\n",
      "Epoch [58/100] average reconstruction_error : 18736.151258911912\n",
      "Epoch [59/100] average reconstruction_error : 18730.89774203758\n",
      "Epoch [60/100] average reconstruction_error : 18715.031262493336\n",
      "Epoch [61/100] average reconstruction_error : 18714.674157116206\n",
      "Epoch [62/100] average reconstruction_error : 18707.210127515325\n",
      "Epoch [63/100] average reconstruction_error : 18698.64191389592\n",
      "Epoch [64/100] average reconstruction_error : 18698.23984916378\n",
      "Epoch [65/100] average reconstruction_error : 18679.73162438366\n",
      "Epoch [66/100] average reconstruction_error : 18681.662894373\n",
      "Epoch [67/100] average reconstruction_error : 18678.412561217352\n",
      "Epoch [68/100] average reconstruction_error : 18669.262068563432\n",
      "Epoch [69/100] average reconstruction_error : 18662.82904117804\n",
      "Epoch [70/100] average reconstruction_error : 18657.852289195762\n",
      "Epoch [71/100] average reconstruction_error : 18649.76318879931\n",
      "Epoch [72/100] average reconstruction_error : 18645.360035064634\n",
      "Epoch [73/100] average reconstruction_error : 18642.177975912848\n",
      "Epoch [74/100] average reconstruction_error : 18631.87457730877\n",
      "Epoch [75/100] average reconstruction_error : 18627.90480701959\n",
      "Epoch [76/100] average reconstruction_error : 18621.742576875666\n",
      "Epoch [77/100] average reconstruction_error : 18614.2487131863\n",
      "Epoch [78/100] average reconstruction_error : 18617.59841001466\n",
      "Epoch [79/100] average reconstruction_error : 18601.989528501465\n",
      "Epoch [80/100] average reconstruction_error : 18597.451167710555\n",
      "Epoch [81/100] average reconstruction_error : 18601.277098047707\n",
      "Epoch [82/100] average reconstruction_error : 18595.263690615004\n",
      "Epoch [83/100] average reconstruction_error : 18585.130397121535\n",
      "Epoch [84/100] average reconstruction_error : 18586.085906266657\n",
      "Epoch [85/100] average reconstruction_error : 18579.1840955657\n",
      "Epoch [86/100] average reconstruction_error : 18570.761827025588\n",
      "Epoch [87/100] average reconstruction_error : 18572.265406366605\n",
      "Epoch [88/100] average reconstruction_error : 18559.091355443765\n",
      "Epoch [89/100] average reconstruction_error : 18567.26936050773\n",
      "Epoch [90/100] average reconstruction_error : 18559.185942497334\n",
      "Epoch [91/100] average reconstruction_error : 18564.537652835155\n",
      "Epoch [92/100] average reconstruction_error : 18560.421387759863\n",
      "Epoch [93/100] average reconstruction_error : 18549.85122309768\n",
      "Epoch [94/100] average reconstruction_error : 18547.246010461087\n",
      "Epoch [95/100] average reconstruction_error : 18549.418868270255\n",
      "Epoch [96/100] average reconstruction_error : 18538.798734424974\n",
      "Epoch [97/100] average reconstruction_error : 18540.452242137526\n",
      "Epoch [98/100] average reconstruction_error : 18529.962599113805\n",
      "Epoch [99/100] average reconstruction_error : 18527.972587536646\n",
      "Wall time: 19min 2s\n"
     ]
    }
   ],
   "source": [
    "%%time\n",
    "optimizer=torch.optim.Adam(params=vae_model.parameters(),\n",
    "                           lr=learning_rate,weight_decay=1e-5)\n",
    "\n",
    "vae_model.train()\n",
    "average_training_loss,vae_model=train_model(vae_model,optimizer,num_epochs=100)"
   ]
  },
  {
   "cell_type": "code",
   "execution_count": 18,
   "metadata": {},
   "outputs": [
    {
     "data": {
      "image/png": "[encoded data removed]",
      "text/plain": [
       "<Figure size 432x288 with 1 Axes>"
      ]
     },
     "metadata": {
      "needs_background": "light"
     },
     "output_type": "display_data"
    }
   ],
   "source": [
    "import matplotlib.pyplot as plt\n",
    "plt.ion()\n",
    "\n",
    "fig = plt.figure()\n",
    "plt.plot(average_training_loss)\n",
    "plt.xlabel('Epochs')\n",
    "plt.ylabel('Loss')\n",
    "plt.show()"
   ]
  },
  {
   "cell_type": "code",
   "execution_count": 22,
   "metadata": {},
   "outputs": [],
   "source": [
    "def evaluate_model(vae_model):\n",
    "    average_test_loss, num_batches = 0, 0\n",
    "    for image_batch, _ in test_dataloader:\n",
    "\n",
    "        with torch.no_grad():\n",
    "\n",
    "            image_batch = image_batch.to(device)\n",
    "\n",
    "            # vae reconstruction\n",
    "            image_batch_recon, latent_mu, latent_logvar = vae_model(image_batch)\n",
    "\n",
    "            # reconstruction error\n",
    "            loss = variational_encoder_loss(image_batch_recon, image_batch, latent_mu, latent_logvar)\n",
    "\n",
    "            average_test_loss += loss.item()\n",
    "            num_batches += 1\n",
    "\n",
    "    average_test_loss /= num_batches\n",
    "    print('average reconstruction error: %f' % (average_test_loss))"
   ]
  },
  {
   "cell_type": "code",
   "execution_count": 23,
   "metadata": {},
   "outputs": [
    {
     "name": "stdout",
     "output_type": "stream",
     "text": [
      "average reconstruction error: 19077.512244\n"
     ]
    }
   ],
   "source": [
    "vae_model.eval()\n",
    "evaluate_model(vae_model)"
   ]
  },
  {
   "cell_type": "code",
   "execution_count": 24,
   "metadata": {},
   "outputs": [
    {
     "name": "stdout",
     "output_type": "stream",
     "text": [
      "Original images\n"
     ]
    },
    {
     "data": {
      "image/png": "[encoded data removed]",
      "text/plain": [
       "<Figure size 432x288 with 1 Axes>"
      ]
     },
     "metadata": {
      "needs_background": "light"
     },
     "output_type": "display_data"
    },
    {
     "name": "stdout",
     "output_type": "stream",
     "text": [
      "VAE reconstruction:\n"
     ]
    },
    {
     "data": {
      "image/png": "[encoded data removed]",
      "text/plain": [
       "<Figure size 432x288 with 1 Axes>"
      ]
     },
     "metadata": {
      "needs_background": "light"
     },
     "output_type": "display_data"
    }
   ],
   "source": [
    "import numpy as np\n",
    "import matplotlib.pyplot as plt\n",
    "plt.ion()\n",
    "\n",
    "import torchvision.utils\n",
    "\n",
    "vae_model.eval()\n",
    "\n",
    "# This function takes as an input the images to reconstruct\n",
    "# and the name of the model with which the reconstructions\n",
    "# are performed\n",
    "def to_img(x):\n",
    "    x = x.clamp(0, 1)\n",
    "    return x\n",
    "\n",
    "def show_image(img):\n",
    "    img = to_img(img)\n",
    "    npimg = img.numpy()\n",
    "    plt.imshow(np.transpose(npimg, (1, 2, 0)))\n",
    "\n",
    "def visualise_output(images, model):\n",
    "\n",
    "    with torch.no_grad():\n",
    "    \n",
    "        images = images.to(device)\n",
    "        images, _, _ = model(images)\n",
    "        images = images.cpu()\n",
    "        images = to_img(images)\n",
    "        np_imagegrid = torchvision.utils.make_grid(images[1:50], 10, 5).numpy()\n",
    "        plt.imshow(np.transpose(np_imagegrid, (1, 2, 0)))\n",
    "        plt.show()\n",
    "\n",
    "images, labels = iter(test_dataloader).next()\n",
    "\n",
    "# First visualise the original images\n",
    "print('Original images')\n",
    "show_image(torchvision.utils.make_grid(images[1:50],10,5))\n",
    "plt.show()\n",
    "\n",
    "# Reconstruct and visualise the images using the vae\n",
    "print('VAE reconstruction:')\n",
    "visualise_output(images, vae_model)"
   ]
  },
  {
   "cell_type": "markdown",
   "metadata": {},
   "source": [
    "# experiment with different latent spaces"
   ]
  },
  {
   "cell_type": "code",
   "execution_count": 31,
   "metadata": {},
   "outputs": [],
   "source": [
    "def interpolation(lambda1, model, img1, img2):\n",
    "    \n",
    "    with torch.no_grad():\n",
    "    \n",
    "        # latent vector of first image\n",
    "        img1 = img1.to(device)\n",
    "        latent_1, _ = model.encoder_block(img1)\n",
    "\n",
    "        # latent vector of second image\n",
    "        img2 = img2.to(device)\n",
    "        latent_2, _ = model.encoder_block(img2)\n",
    "\n",
    "        # interpolation of the two latent vectors\n",
    "        inter_latent = lambda1* latent_1 + (1- lambda1) * latent_2\n",
    "\n",
    "        # reconstruct interpolated image\n",
    "        inter_image = model.decoder_block(inter_latent)\n",
    "        inter_image = inter_image.cpu()\n",
    "\n",
    "        return inter_image\n",
    "    "
   ]
  },
  {
   "cell_type": "code",
   "execution_count": 32,
   "metadata": {},
   "outputs": [
    {
     "data": {
      "image/png": "[encoded data removed]",
      "text/plain": [
       "<Figure size 1080x432 with 10 Axes>"
      ]
     },
     "metadata": {
      "needs_background": "light"
     },
     "output_type": "display_data"
    }
   ],
   "source": [
    "vae_model.eval()\n",
    "\n",
    "# sort part of test set by digit\n",
    "digits = [[] for _ in range(10)]\n",
    "for img_batch, label_batch in test_dataloader:\n",
    "    for i in range(img_batch.size(0)):\n",
    "        digits[label_batch[i]].append(img_batch[i:i+1])\n",
    "    if sum(len(d) for d in digits) >= 1000:\n",
    "        break;\n",
    "\n",
    "# interpolation lambdas\n",
    "lambda_range=np.linspace(0,1,10)\n",
    "\n",
    "fig, axs = plt.subplots(2,5, figsize=(15, 6))\n",
    "fig.subplots_adjust(hspace = .5, wspace=.001)\n",
    "axs = axs.ravel()\n",
    "\n",
    "for ind,l in enumerate(lambda_range):\n",
    "    inter_image=interpolation(float(l), vae_model, digits[7][0], digits[1][0])\n",
    "   \n",
    "    inter_image = to_img(inter_image)\n",
    "    \n",
    "    image = inter_image.numpy()\n",
    "   \n",
    "    axs[ind].imshow(image[0,0,:,:], cmap='gray')\n",
    "    axs[ind].set_title('lambda_val='+str(round(l,1)))\n",
    "plt.show() "
   ]
  },
  {
   "cell_type": "code",
   "execution_count": null,
   "metadata": {},
   "outputs": [],
   "source": []
  },
  {
   "cell_type": "code",
   "execution_count": null,
   "metadata": {},
   "outputs": [],
   "source": []
  },
  {
   "cell_type": "code",
   "execution_count": null,
   "metadata": {},
   "outputs": [],
   "source": []
  },
  {
   "cell_type": "code",
   "execution_count": null,
   "metadata": {},
   "outputs": [],
   "source": []
  },
  {
   "cell_type": "code",
   "execution_count": null,
   "metadata": {},
   "outputs": [],
   "source": []
  },
  {
   "cell_type": "code",
   "execution_count": null,
   "metadata": {},
   "outputs": [],
   "source": []
  },
  {
   "cell_type": "code",
   "execution_count": null,
   "metadata": {},
   "outputs": [],
   "source": []
  },
  {
   "cell_type": "code",
   "execution_count": null,
   "metadata": {},
   "outputs": [],
   "source": []
  },
  {
   "cell_type": "code",
   "execution_count": null,
   "metadata": {},
   "outputs": [],
   "source": []
  },
  {
   "cell_type": "code",
   "execution_count": null,
   "metadata": {},
   "outputs": [],
   "source": []
  },
  {
   "cell_type": "code",
   "execution_count": null,
   "metadata": {},
   "outputs": [],
   "source": []
  },
  {
   "cell_type": "code",
   "execution_count": null,
   "metadata": {},
   "outputs": [],
   "source": []
  },
  {
   "cell_type": "code",
   "execution_count": null,
   "metadata": {},
   "outputs": [],
   "source": []
  },
  {
   "cell_type": "code",
   "execution_count": null,
   "metadata": {},
   "outputs": [],
   "source": []
  },
  {
   "cell_type": "code",
   "execution_count": null,
   "metadata": {},
   "outputs": [],
   "source": []
  },
  {
   "cell_type": "code",
   "execution_count": null,
   "metadata": {},
   "outputs": [],
   "source": []
  }
 ],
 "metadata": {
  "kernelspec": {
   "display_name": "Python 3",
   "language": "python",
   "name": "python3"
  },
  "language_info": {
   "codemirror_mode": {
    "name": "ipython",
    "version": 3
   },
   "file_extension": ".py",
   "mimetype": "text/x-python",
   "name": "python",
   "nbconvert_exporter": "python",
   "pygments_lexer": "ipython3",
   "version": "3.7.7"
  }
 },
 "nbformat": 4,
 "nbformat_minor": 4
}
